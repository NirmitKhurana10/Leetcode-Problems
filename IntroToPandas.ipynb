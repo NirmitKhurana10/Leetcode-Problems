{
 "cells": [
  {
   "cell_type": "markdown",
   "id": "56dc4ca0",
   "metadata": {},
   "source": [
    "## Intro To Pandas \n",
    "\n",
    "Link to Playlist: https://leetcode.com/studyplan/introduction-to-pandas/\n",
    "\n",
    "Link to My Personal Data Science Playlist: https://leetcode.com/problem-list/vpqfof2t/"
   ]
  },
  {
   "cell_type": "markdown",
   "id": "e078cc94",
   "metadata": {},
   "source": [
    "#### 2877: Create a DataFrame from List"
   ]
  },
  {
   "cell_type": "code",
   "execution_count": 88,
   "id": "09fcc9dd",
   "metadata": {},
   "outputs": [
    {
     "data": {
      "text/html": [
       "<div>\n",
       "<style scoped>\n",
       "    .dataframe tbody tr th:only-of-type {\n",
       "        vertical-align: middle;\n",
       "    }\n",
       "\n",
       "    .dataframe tbody tr th {\n",
       "        vertical-align: top;\n",
       "    }\n",
       "\n",
       "    .dataframe thead th {\n",
       "        text-align: right;\n",
       "    }\n",
       "</style>\n",
       "<table border=\"1\" class=\"dataframe\">\n",
       "  <thead>\n",
       "    <tr style=\"text-align: right;\">\n",
       "      <th></th>\n",
       "      <th>student_id</th>\n",
       "      <th>age</th>\n",
       "    </tr>\n",
       "  </thead>\n",
       "  <tbody>\n",
       "    <tr>\n",
       "      <th>0</th>\n",
       "      <td>1</td>\n",
       "      <td>15</td>\n",
       "    </tr>\n",
       "    <tr>\n",
       "      <th>1</th>\n",
       "      <td>2</td>\n",
       "      <td>11</td>\n",
       "    </tr>\n",
       "    <tr>\n",
       "      <th>2</th>\n",
       "      <td>3</td>\n",
       "      <td>11</td>\n",
       "    </tr>\n",
       "    <tr>\n",
       "      <th>3</th>\n",
       "      <td>4</td>\n",
       "      <td>20</td>\n",
       "    </tr>\n",
       "  </tbody>\n",
       "</table>\n",
       "</div>"
      ],
      "text/plain": [
       "   student_id  age\n",
       "0           1   15\n",
       "1           2   11\n",
       "2           3   11\n",
       "3           4   20"
      ]
     },
     "execution_count": 88,
     "metadata": {},
     "output_type": "execute_result"
    }
   ],
   "source": [
    "import pandas as pd\n",
    "student_data = [\n",
    "  [1, 15],\n",
    "  [2, 11],\n",
    "  [3, 11],\n",
    "  [4, 20]\n",
    "]\n",
    "df = pd.DataFrame(student_data, columns = [\"student_id\", \"age\"])\n",
    "df"
   ]
  },
  {
   "cell_type": "markdown",
   "id": "67fccf08",
   "metadata": {},
   "source": [
    "#### 2878: Get the size of a Dataframe"
   ]
  },
  {
   "cell_type": "code",
   "execution_count": 89,
   "id": "574a8c91",
   "metadata": {},
   "outputs": [
    {
     "name": "stdout",
     "output_type": "stream",
     "text": [
      "[4, 2]\n"
     ]
    }
   ],
   "source": [
    "row,col = df.shape\n",
    "ans= [row,col]\n",
    "print(ans)"
   ]
  },
  {
   "cell_type": "markdown",
   "id": "7f432bcd",
   "metadata": {},
   "source": [
    "#### 2879: Display the First Three Rows"
   ]
  },
  {
   "cell_type": "code",
   "execution_count": 90,
   "id": "7cdf361c",
   "metadata": {},
   "outputs": [
    {
     "name": "stdout",
     "output_type": "stream",
     "text": [
      "   student_id  age\n",
      "0           1   15\n",
      "1           2   11\n",
      "2           3   11\n"
     ]
    }
   ],
   "source": [
    "df.head(3)\n",
    "\n",
    "# or\n",
    "\n",
    "rows = df[0:3]\n",
    "print(rows)\n"
   ]
  },
  {
   "cell_type": "markdown",
   "id": "0fca2e2c",
   "metadata": {},
   "source": [
    "### 2880: Select Data"
   ]
  },
  {
   "cell_type": "code",
   "execution_count": 91,
   "id": "98e85ae1",
   "metadata": {},
   "outputs": [
    {
     "name": "stdout",
     "output_type": "stream",
     "text": [
      "   student_id\n",
      "1           2\n",
      "2           3\n"
     ]
    }
   ],
   "source": [
    "print(df.loc[df[\"age\"]==11,[\"student_id\"]])"
   ]
  },
  {
   "cell_type": "markdown",
   "id": "ef8f4b00",
   "metadata": {},
   "source": [
    "#### 2881: Create a New Column"
   ]
  },
  {
   "cell_type": "code",
   "execution_count": 92,
   "id": "568ab06f",
   "metadata": {},
   "outputs": [
    {
     "data": {
      "text/html": [
       "<div>\n",
       "<style scoped>\n",
       "    .dataframe tbody tr th:only-of-type {\n",
       "        vertical-align: middle;\n",
       "    }\n",
       "\n",
       "    .dataframe tbody tr th {\n",
       "        vertical-align: top;\n",
       "    }\n",
       "\n",
       "    .dataframe thead th {\n",
       "        text-align: right;\n",
       "    }\n",
       "</style>\n",
       "<table border=\"1\" class=\"dataframe\">\n",
       "  <thead>\n",
       "    <tr style=\"text-align: right;\">\n",
       "      <th></th>\n",
       "      <th>student_id</th>\n",
       "      <th>age</th>\n",
       "      <th>double age</th>\n",
       "    </tr>\n",
       "  </thead>\n",
       "  <tbody>\n",
       "    <tr>\n",
       "      <th>0</th>\n",
       "      <td>1</td>\n",
       "      <td>15</td>\n",
       "      <td>30</td>\n",
       "    </tr>\n",
       "    <tr>\n",
       "      <th>1</th>\n",
       "      <td>2</td>\n",
       "      <td>11</td>\n",
       "      <td>22</td>\n",
       "    </tr>\n",
       "    <tr>\n",
       "      <th>2</th>\n",
       "      <td>3</td>\n",
       "      <td>11</td>\n",
       "      <td>22</td>\n",
       "    </tr>\n",
       "    <tr>\n",
       "      <th>3</th>\n",
       "      <td>4</td>\n",
       "      <td>20</td>\n",
       "      <td>40</td>\n",
       "    </tr>\n",
       "  </tbody>\n",
       "</table>\n",
       "</div>"
      ],
      "text/plain": [
       "   student_id  age  double age\n",
       "0           1   15          30\n",
       "1           2   11          22\n",
       "2           3   11          22\n",
       "3           4   20          40"
      ]
     },
     "execution_count": 92,
     "metadata": {},
     "output_type": "execute_result"
    }
   ],
   "source": [
    "df[\"double age\"] = df[\"age\"] * 2\n",
    "df"
   ]
  },
  {
   "cell_type": "markdown",
   "id": "2bece0ae",
   "metadata": {},
   "source": [
    "#### 2882: Drop Duplicate Rows"
   ]
  },
  {
   "cell_type": "code",
   "execution_count": 93,
   "id": "1c63509c",
   "metadata": {},
   "outputs": [
    {
     "data": {
      "text/html": [
       "<div>\n",
       "<style scoped>\n",
       "    .dataframe tbody tr th:only-of-type {\n",
       "        vertical-align: middle;\n",
       "    }\n",
       "\n",
       "    .dataframe tbody tr th {\n",
       "        vertical-align: top;\n",
       "    }\n",
       "\n",
       "    .dataframe thead th {\n",
       "        text-align: right;\n",
       "    }\n",
       "</style>\n",
       "<table border=\"1\" class=\"dataframe\">\n",
       "  <thead>\n",
       "    <tr style=\"text-align: right;\">\n",
       "      <th></th>\n",
       "      <th>student_id</th>\n",
       "      <th>age</th>\n",
       "      <th>double age</th>\n",
       "    </tr>\n",
       "  </thead>\n",
       "  <tbody>\n",
       "    <tr>\n",
       "      <th>0</th>\n",
       "      <td>1</td>\n",
       "      <td>15</td>\n",
       "      <td>30</td>\n",
       "    </tr>\n",
       "    <tr>\n",
       "      <th>1</th>\n",
       "      <td>2</td>\n",
       "      <td>11</td>\n",
       "      <td>22</td>\n",
       "    </tr>\n",
       "    <tr>\n",
       "      <th>3</th>\n",
       "      <td>4</td>\n",
       "      <td>20</td>\n",
       "      <td>40</td>\n",
       "    </tr>\n",
       "  </tbody>\n",
       "</table>\n",
       "</div>"
      ],
      "text/plain": [
       "   student_id  age  double age\n",
       "0           1   15          30\n",
       "1           2   11          22\n",
       "3           4   20          40"
      ]
     },
     "execution_count": 93,
     "metadata": {},
     "output_type": "execute_result"
    }
   ],
   "source": [
    "df.drop_duplicates(subset=\"age\", inplace=True)\n",
    "df"
   ]
  },
  {
   "cell_type": "markdown",
   "id": "79eba894",
   "metadata": {},
   "source": [
    "#### 2883: Drop Missing Data"
   ]
  },
  {
   "cell_type": "code",
   "execution_count": 94,
   "id": "6c29a850",
   "metadata": {},
   "outputs": [
    {
     "data": {
      "text/html": [
       "<div>\n",
       "<style scoped>\n",
       "    .dataframe tbody tr th:only-of-type {\n",
       "        vertical-align: middle;\n",
       "    }\n",
       "\n",
       "    .dataframe tbody tr th {\n",
       "        vertical-align: top;\n",
       "    }\n",
       "\n",
       "    .dataframe thead th {\n",
       "        text-align: right;\n",
       "    }\n",
       "</style>\n",
       "<table border=\"1\" class=\"dataframe\">\n",
       "  <thead>\n",
       "    <tr style=\"text-align: right;\">\n",
       "      <th></th>\n",
       "      <th>student_id</th>\n",
       "      <th>age</th>\n",
       "      <th>double age</th>\n",
       "    </tr>\n",
       "  </thead>\n",
       "  <tbody>\n",
       "    <tr>\n",
       "      <th>0</th>\n",
       "      <td>1</td>\n",
       "      <td>15</td>\n",
       "      <td>30</td>\n",
       "    </tr>\n",
       "    <tr>\n",
       "      <th>1</th>\n",
       "      <td>2</td>\n",
       "      <td>11</td>\n",
       "      <td>22</td>\n",
       "    </tr>\n",
       "    <tr>\n",
       "      <th>3</th>\n",
       "      <td>4</td>\n",
       "      <td>20</td>\n",
       "      <td>40</td>\n",
       "    </tr>\n",
       "  </tbody>\n",
       "</table>\n",
       "</div>"
      ],
      "text/plain": [
       "   student_id  age  double age\n",
       "0           1   15          30\n",
       "1           2   11          22\n",
       "3           4   20          40"
      ]
     },
     "execution_count": 94,
     "metadata": {},
     "output_type": "execute_result"
    }
   ],
   "source": [
    "df.dropna(subset='age')"
   ]
  },
  {
   "cell_type": "markdown",
   "id": "25690fab",
   "metadata": {},
   "source": [
    "#### 2884: Modify Columns"
   ]
  },
  {
   "cell_type": "code",
   "execution_count": 95,
   "id": "b55271b1",
   "metadata": {},
   "outputs": [
    {
     "data": {
      "text/plain": [
       "0    30\n",
       "1    22\n",
       "3    40\n",
       "Name: age, dtype: int64"
      ]
     },
     "execution_count": 95,
     "metadata": {},
     "output_type": "execute_result"
    }
   ],
   "source": [
    "df[\"age\"] * 2"
   ]
  },
  {
   "cell_type": "markdown",
   "id": "d105d2c4",
   "metadata": {},
   "source": [
    "#### 2885: Renaming Columns"
   ]
  },
  {
   "cell_type": "code",
   "execution_count": 96,
   "id": "ab0d409f",
   "metadata": {},
   "outputs": [
    {
     "data": {
      "text/html": [
       "<div>\n",
       "<style scoped>\n",
       "    .dataframe tbody tr th:only-of-type {\n",
       "        vertical-align: middle;\n",
       "    }\n",
       "\n",
       "    .dataframe tbody tr th {\n",
       "        vertical-align: top;\n",
       "    }\n",
       "\n",
       "    .dataframe thead th {\n",
       "        text-align: right;\n",
       "    }\n",
       "</style>\n",
       "<table border=\"1\" class=\"dataframe\">\n",
       "  <thead>\n",
       "    <tr style=\"text-align: right;\">\n",
       "      <th></th>\n",
       "      <th>student_id</th>\n",
       "      <th>age_in_years</th>\n",
       "      <th>double age</th>\n",
       "    </tr>\n",
       "  </thead>\n",
       "  <tbody>\n",
       "    <tr>\n",
       "      <th>0</th>\n",
       "      <td>1</td>\n",
       "      <td>15</td>\n",
       "      <td>30</td>\n",
       "    </tr>\n",
       "    <tr>\n",
       "      <th>1</th>\n",
       "      <td>2</td>\n",
       "      <td>11</td>\n",
       "      <td>22</td>\n",
       "    </tr>\n",
       "    <tr>\n",
       "      <th>3</th>\n",
       "      <td>4</td>\n",
       "      <td>20</td>\n",
       "      <td>40</td>\n",
       "    </tr>\n",
       "  </tbody>\n",
       "</table>\n",
       "</div>"
      ],
      "text/plain": [
       "   student_id  age_in_years  double age\n",
       "0           1            15          30\n",
       "1           2            11          22\n",
       "3           4            20          40"
      ]
     },
     "execution_count": 96,
     "metadata": {},
     "output_type": "execute_result"
    }
   ],
   "source": [
    "df.rename(columns={'age':'age_in_years'}, inplace=True)\n",
    "df"
   ]
  },
  {
   "cell_type": "markdown",
   "id": "66845d1c",
   "metadata": {},
   "source": [
    "#### 2886: Change Data Type"
   ]
  },
  {
   "cell_type": "code",
   "execution_count": 97,
   "id": "b0ffa258",
   "metadata": {},
   "outputs": [
    {
     "data": {
      "text/html": [
       "<div>\n",
       "<style scoped>\n",
       "    .dataframe tbody tr th:only-of-type {\n",
       "        vertical-align: middle;\n",
       "    }\n",
       "\n",
       "    .dataframe tbody tr th {\n",
       "        vertical-align: top;\n",
       "    }\n",
       "\n",
       "    .dataframe thead th {\n",
       "        text-align: right;\n",
       "    }\n",
       "</style>\n",
       "<table border=\"1\" class=\"dataframe\">\n",
       "  <thead>\n",
       "    <tr style=\"text-align: right;\">\n",
       "      <th></th>\n",
       "      <th>student_id</th>\n",
       "      <th>age_in_years</th>\n",
       "      <th>double age</th>\n",
       "    </tr>\n",
       "  </thead>\n",
       "  <tbody>\n",
       "    <tr>\n",
       "      <th>0</th>\n",
       "      <td>1</td>\n",
       "      <td>15.0</td>\n",
       "      <td>30</td>\n",
       "    </tr>\n",
       "    <tr>\n",
       "      <th>1</th>\n",
       "      <td>2</td>\n",
       "      <td>11.0</td>\n",
       "      <td>22</td>\n",
       "    </tr>\n",
       "    <tr>\n",
       "      <th>3</th>\n",
       "      <td>4</td>\n",
       "      <td>20.0</td>\n",
       "      <td>40</td>\n",
       "    </tr>\n",
       "  </tbody>\n",
       "</table>\n",
       "</div>"
      ],
      "text/plain": [
       "   student_id  age_in_years  double age\n",
       "0           1          15.0          30\n",
       "1           2          11.0          22\n",
       "3           4          20.0          40"
      ]
     },
     "execution_count": 97,
     "metadata": {},
     "output_type": "execute_result"
    }
   ],
   "source": [
    "df[\"age_in_years\"] = df[\"age_in_years\"].astype(float)\n",
    "df"
   ]
  },
  {
   "cell_type": "markdown",
   "id": "0f733bd4",
   "metadata": {},
   "source": [
    "#### 2887: Fill Missing Data"
   ]
  },
  {
   "cell_type": "code",
   "execution_count": null,
   "id": "4d9c218b",
   "metadata": {},
   "outputs": [],
   "source": [
    "#df[\"age_in_years\"].fillna(0)"
   ]
  },
  {
   "cell_type": "markdown",
   "id": "71208b3a",
   "metadata": {},
   "source": [
    "#### 2888: Reshape Data: Concatenate"
   ]
  },
  {
   "cell_type": "code",
   "execution_count": null,
   "id": "d0837e6b",
   "metadata": {},
   "outputs": [],
   "source": [
    "# df = pd.concat([df1,df2], axis = 0)"
   ]
  },
  {
   "cell_type": "markdown",
   "id": "8cb65c1c",
   "metadata": {},
   "source": [
    "#### 2889: Reshape Data: Pivot"
   ]
  },
  {
   "cell_type": "code",
   "execution_count": 99,
   "id": "6b7e85cc",
   "metadata": {},
   "outputs": [
    {
     "name": "stdout",
     "output_type": "stream",
     "text": [
      "Original DataFrame:\n",
      "         Date Category  Value\n",
      "0  2022-01-03        A      5\n",
      "1  2022-01-08        B     12\n",
      "2  2022-01-05        B     66\n",
      "3  2022-01-01        A     75\n",
      "4  2022-01-04        C     90\n",
      "5  2022-01-01        B     46\n",
      "6  2022-01-08        A     89\n",
      "7  2022-01-02        A     73\n",
      "8  2022-01-03        A     34\n",
      "9  2022-01-08        B     29\n",
      "10 2022-01-01        C     74\n",
      "11 2022-01-03        C     11\n",
      "12 2022-01-10        C     18\n",
      "13 2022-01-09        A     19\n",
      "14 2022-01-07        C     63\n",
      "15 2022-01-04        C     71\n",
      "16 2022-01-07        C     28\n",
      "17 2022-01-04        C     66\n",
      "18 2022-01-08        B     44\n",
      "19 2022-01-01        A     59\n",
      "Pivot Table:\n",
      "Category        A     B      C\n",
      "Date                          \n",
      "2022-01-01  134.0  46.0   74.0\n",
      "2022-01-02   73.0   NaN    NaN\n",
      "2022-01-03   39.0   NaN   11.0\n",
      "2022-01-04    NaN   NaN  227.0\n",
      "2022-01-05    NaN  66.0    NaN\n",
      "2022-01-07    NaN   NaN   91.0\n",
      "2022-01-08   89.0  85.0    NaN\n",
      "2022-01-09   19.0   NaN    NaN\n",
      "2022-01-10    NaN   NaN   18.0\n"
     ]
    }
   ],
   "source": [
    "# Create a Pandas DataFrame with columns 'Date', 'Category', and 'Value'\n",
    "import numpy as np\n",
    "date_rng = pd.date_range(start='2022-01-01', end='2022-01-10', freq='D')\n",
    "df = pd.DataFrame({'Date': np.random.choice(date_rng, size=20), 'Category': np.random.choice(['A', 'B', 'C'], size=20), 'Value': np.random.randint(1, 100, size=20)})\n",
    "print(\"Original DataFrame:\")\n",
    "print(df)\n",
    "\n",
    "# Create a pivot table to compute the sum of 'Value' for each 'Category' by 'Date'\n",
    "pivot_table = df.pivot_table(values='Value', index='Date', columns='Category', aggfunc='sum')\n",
    "print(\"Pivot Table:\")\n",
    "print(pivot_table)"
   ]
  },
  {
   "cell_type": "markdown",
   "id": "744049c4",
   "metadata": {},
   "source": [
    "#### 2890: Reshape Data: Melt"
   ]
  },
  {
   "cell_type": "markdown",
   "id": "993af594",
   "metadata": {},
   "source": [
    "Intuition\n",
    "\n",
    "This problem requires us to transform a wide-format sales report (where each quarter is a separate column) into a long format (where quarters become row values). This is the opposite of pivoting - we're \"melting\" or \"unpivoting\" the data to make it more suitable for analysis and visualization tools that prefer normalized data structures.\n",
    "\n",
    "Approach\n",
    "\n",
    "We'll use pandas' melt() function to:\n",
    "\n",
    "Keep \"product\" as an identifier column (id_vars) - it remains unchanged\n",
    "Transform the quarter columns (quarter_1 through quarter_4) into row values\n",
    "Create a new \"quarter\" column containing the quarter names (var_name)\n",
    "Create a new \"sales\" column containing the corresponding sales values (value_name)\n",
    "Convert from wide format (fewer rows, more columns) to long format (more rows, fewer columns)\n",
    "This transformation makes the data more suitable for time-series analysis and grouping operations.\n",
    "\n",
    "Complexity\n",
    "\n",
    "Time complexity: O(n×m)\n",
    "Where n is the number of products and m is the number of quarters, as we create n×m rows in the output.\n",
    "\n",
    "Space complexity: O(n×m)\n",
    "The melted DataFrame will have n×m rows (one for each product-quarter combination)."
   ]
  },
  {
   "cell_type": "code",
   "execution_count": null,
   "id": "37b7b7fd",
   "metadata": {},
   "outputs": [],
   "source": [
    "# import pandas as pd\n",
    "\n",
    "# def meltTable(report: pd.DataFrame) -> pd.DataFrame:\n",
    "#     return report.melt(\n",
    "#         id_vars=[\"product\"],\n",
    "#         value_vars=[\"quarter_1\", \"quarter_2\", \"quarter_3\", \"quarter_4\"],\n",
    "#         var_name=\"quarter\",\n",
    "#         value_name=\"sales\"\n",
    "#     )"
   ]
  }
 ],
 "metadata": {
  "kernelspec": {
   "display_name": "leetcode",
   "language": "python",
   "name": "python3"
  },
  "language_info": {
   "codemirror_mode": {
    "name": "ipython",
    "version": 3
   },
   "file_extension": ".py",
   "mimetype": "text/x-python",
   "name": "python",
   "nbconvert_exporter": "python",
   "pygments_lexer": "ipython3",
   "version": "3.11.13"
  }
 },
 "nbformat": 4,
 "nbformat_minor": 5
}
